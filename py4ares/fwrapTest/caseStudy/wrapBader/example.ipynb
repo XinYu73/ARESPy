{
 "cells": [
  {
   "cell_type": "code",
   "execution_count": null,
   "metadata": {},
   "outputs": [],
   "source": [
    "from bader import *\n",
    "\n",
    "opts = default_options()\n",
    "opts.chargefile = 'CHGCAR'\n",
    "\n",
    "ions = ions_mod.ions_obj(0, 0)\n",
    "chgval = charge_mod.charge_obj([0, 0, 0])\n",
    "bdr = bader_mod.bader_obj()\n",
    "\n",
    "io_mod.read_charge(ions,chgval,opts)\n",
    "bader_mod.bader_calc(bdr,ions,chgval,opts)\n",
    "bader_mod.bader_mindist(bdr,ions,chgval)\n",
    "print(bader_mod.bader_output(bdr,ions,chgval))\n",
    "\n"
   ]
  },
  {
   "cell_type": "markdown",
   "metadata": {},
   "source": [
    " bader_mod.f90     example2.py    main.f90                multipole_mod.f90\n",
    " charge_mod.f90    init.py        makefile.lnx_ifort      options_mod.f90\n",
    " chgcar_mod.f90    io_mod.f90     makefile.osx_gfortran   results_mod.f90\n",
    " command_arg.f90   ions_mod.f90   makefile.osx_ifort      voronoi_mod.f90\n",
    " cube_mod.f90      kind_map       makefile.win_pgf        wavecar_mod.f90\n",
    " example1.py       kind_mod.f90   matrix_mod.f90 "
   ]
  }
 ],
 "metadata": {
  "interpreter": {
   "hash": "b1d45c73e0fccf0ca2067aeb717db71c978d050da4429a0a8038632fdd77205e"
  },
  "kernelspec": {
   "display_name": "Python 3.8.12 ('XinYuEnv')",
   "language": "python",
   "name": "python3"
  },
  "language_info": {
   "codemirror_mode": {
    "name": "ipython",
    "version": 3
   },
   "file_extension": ".py",
   "mimetype": "text/x-python",
   "name": "python",
   "nbconvert_exporter": "python",
   "pygments_lexer": "ipython3",
   "version": "3.8.12"
  },
  "orig_nbformat": 4
 },
 "nbformat": 4,
 "nbformat_minor": 2
}
