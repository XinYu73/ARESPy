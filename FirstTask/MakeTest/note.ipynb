{
 "cells": [
  {
   "cell_type": "markdown",
   "metadata": {},
   "source": [
    "# Shell Scripting Basics"
   ]
  },
  {
   "cell_type": "markdown",
   "metadata": {},
   "source": [
    "## Basic Script Building"
   ]
  },
  {
   "cell_type": "code",
   "execution_count": 7,
   "metadata": {},
   "outputs": [
    {
     "name": "stdout",
     "output_type": "stream",
     "text": [
      "/bin/bash: /home/luoxs/apps/miniconda3/envs/py3/lib/libtinfo.so.6: no version information available (required by /bin/bash)\n",
      "luoxs    pts/0        2022-03-15 08:00 (10.151.191.10)\n",
      "luoxs    pts/1        2022-02-28 21:23 (tmux(64011).%0)\n",
      "luoxs    pts/3        2022-03-09 20:18 (tmux(64011).%1)\n",
      "2022年 03月 15日 星期二 17:11:07 CST\n"
     ]
    }
   ],
   "source": [
    "#! If you want to run two commands together, separated with a semicolon: \n",
    "!who ; date"
   ]
  },
  {
   "cell_type": "code",
   "execution_count": 8,
   "metadata": {},
   "outputs": [
    {
     "name": "stdout",
     "output_type": "stream",
     "text": [
      "/bin/bash: /home/luoxs/apps/miniconda3/envs/py3/lib/libtinfo.so.6: no version information available (required by /bin/bash)\n",
      "/bin/bash: /home/luoxs/apps/miniconda3/envs/py3/lib/libtinfo.so.6: no version information available (required by /bin/bash)\n",
      "time: 2022年 03月 15日 星期二 17:11:23 CST\n",
      "user now luoxs    pts/0        2022-03-15 08:00 (10.151.191.10)\n",
      "luoxs    pts/1        2022-02-28 21:23 (tmux(64011).%0)\n",
      "luoxs    pts/3        2022-03-09 20:18 (tmux(64011).%1)\n"
     ]
    }
   ],
   "source": [
    "# !chmod u+x \n",
    "!./whosh"
   ]
  },
  {
   "cell_type": "markdown",
   "metadata": {},
   "source": [
    "### Displaying Message"
   ]
  },
  {
   "cell_type": "code",
   "execution_count": 10,
   "metadata": {},
   "outputs": [
    {
     "name": "stdout",
     "output_type": "stream",
     "text": [
      "/bin/bash: /home/luoxs/apps/miniconda3/envs/py3/lib/libtinfo.so.6: no version information available (required by /bin/bash)\n",
      "Rich says “scripting is easy”.\n"
     ]
    }
   ],
   "source": [
    "# you need to use one type of quote within the text and the other type to delineate the string\n",
    "!echo 'Rich says “scripting is easy”.'"
   ]
  },
  {
   "cell_type": "markdown",
   "metadata": {},
   "source": [
    "### Using Variables "
   ]
  },
  {
   "cell_type": "markdown",
   "metadata": {},
   "source": [
    "1. when referencing a variable value you use the dollar sign\n",
    "2. referencing the variable to assign a value to it, not use the dollar sign\n",
    "3. Without the dollar sign, the shell interprets the variable name as a normal text string\n",
    "\n",
    "Command substitution\n",
    "\n",
    "extract information from the output of a command and assign it to a variable\n",
    "1. ``\n",
    "2. $()\n",
    "\n",
    "Command substitution creates what’s called a subshell to run the enclosed command. A subshell is a separate child shell generated from the shell that’s running the script\n",
    "\n",
    "Subshells are also created if you run a command from the command prompt using the ./ path"
   ]
  },
  {
   "cell_type": "markdown",
   "metadata": {},
   "source": [
    "### Redirecting Input and Output"
   ]
  },
  {
   "cell_type": "markdown",
   "metadata": {},
   "source": [
    "#### Output redirection\n",
    "\n",
    "1. who > test6 overwrite\n",
    "2. who >> test6 append\n",
    "\n",
    "#### input redirection\n",
    "command < inputfile\n",
    "command << marker data marker    marker for begin and end of input\n",
    "\n",
    "#### pipes\n",
    "cmd | cmd"
   ]
  },
  {
   "cell_type": "markdown",
   "metadata": {},
   "source": [
    "### Perform Math"
   ]
  }
 ],
 "metadata": {
  "interpreter": {
   "hash": "b1d45c73e0fccf0ca2067aeb717db71c978d050da4429a0a8038632fdd77205e"
  },
  "kernelspec": {
   "display_name": "Python 3.8.12 ('XinYuEnv')",
   "language": "python",
   "name": "python3"
  },
  "language_info": {
   "codemirror_mode": {
    "name": "ipython",
    "version": 3
   },
   "file_extension": ".py",
   "mimetype": "text/x-python",
   "name": "python",
   "nbconvert_exporter": "python",
   "pygments_lexer": "ipython3",
   "version": "3.8.12"
  },
  "orig_nbformat": 4
 },
 "nbformat": 4,
 "nbformat_minor": 2
}
