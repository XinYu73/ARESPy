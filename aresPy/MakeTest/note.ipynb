{
 "cells": [
  {
   "cell_type": "markdown",
   "metadata": {},
   "source": [
    "# Shell Scripting Basics"
   ]
  },
  {
   "cell_type": "markdown",
   "metadata": {},
   "source": [
    "## Basic Script Building"
   ]
  },
  {
   "cell_type": "code",
   "execution_count": 7,
   "metadata": {},
   "outputs": [
    {
     "name": "stdout",
     "output_type": "stream",
     "text": [
      "/bin/bash: /home/luoxs/apps/miniconda3/envs/py3/lib/libtinfo.so.6: no version information available (required by /bin/bash)\n",
      "luoxs    pts/0        2022-03-15 08:00 (10.151.191.10)\n",
      "luoxs    pts/1        2022-02-28 21:23 (tmux(64011).%0)\n",
      "luoxs    pts/3        2022-03-09 20:18 (tmux(64011).%1)\n",
      "2022年 03月 15日 星期二 17:11:07 CST\n"
     ]
    }
   ],
   "source": [
    "#! If you want to run two commands together, separated with a semicolon: \n",
    "!who ; date"
   ]
  },
  {
   "cell_type": "code",
   "execution_count": 8,
   "metadata": {},
   "outputs": [
    {
     "name": "stdout",
     "output_type": "stream",
     "text": [
      "/bin/bash: /home/luoxs/apps/miniconda3/envs/py3/lib/libtinfo.so.6: no version information available (required by /bin/bash)\n",
      "/bin/bash: /home/luoxs/apps/miniconda3/envs/py3/lib/libtinfo.so.6: no version information available (required by /bin/bash)\n",
      "time: 2022年 03月 15日 星期二 17:11:23 CST\n",
      "user now luoxs    pts/0        2022-03-15 08:00 (10.151.191.10)\n",
      "luoxs    pts/1        2022-02-28 21:23 (tmux(64011).%0)\n",
      "luoxs    pts/3        2022-03-09 20:18 (tmux(64011).%1)\n"
     ]
    }
   ],
   "source": [
    "# !chmod u+x \n",
    "!./whosh"
   ]
  },
  {
   "cell_type": "markdown",
   "metadata": {},
   "source": [
    "### Displaying Message"
   ]
  },
  {
   "cell_type": "code",
   "execution_count": 10,
   "metadata": {},
   "outputs": [
    {
     "name": "stdout",
     "output_type": "stream",
     "text": [
      "/bin/bash: /home/luoxs/apps/miniconda3/envs/py3/lib/libtinfo.so.6: no version information available (required by /bin/bash)\n",
      "Rich says “scripting is easy”.\n"
     ]
    }
   ],
   "source": [
    "# you need to use one type of quote within the text and the other type to delineate the string\n",
    "!echo 'Rich says “scripting is easy”.'"
   ]
  },
  {
   "cell_type": "markdown",
   "metadata": {},
   "source": [
    "### Using Variables "
   ]
  },
  {
   "cell_type": "markdown",
   "metadata": {},
   "source": [
    "1. when referencing a variable value you use the dollar sign\n",
    "2. referencing the variable to assign a value to it, not use the dollar sign\n",
    "3. Without the dollar sign, the shell interprets the variable name as a normal text string\n",
    "\n",
    "Command substitution\n",
    "\n",
    "extract information from the output of a command and assign it to a variable\n",
    "1. ``\n",
    "2. $()\n",
    "\n",
    "Command substitution creates what’s called a subshell to run the enclosed command. A subshell is a separate child shell generated from the shell that’s running the script\n",
    "\n",
    "Subshells are also created if you run a command from the command prompt using the ./ path"
   ]
  },
  {
   "cell_type": "markdown",
   "metadata": {},
   "source": [
    "### Redirecting Input and Output"
   ]
  },
  {
   "cell_type": "markdown",
   "metadata": {},
   "source": [
    "#### Output redirection\n",
    "\n",
    "1. who > test6 overwrite\n",
    "2. who >> test6 append\n",
    "\n",
    "#### input redirection\n",
    "command < inputfile\n",
    "command << marker data marker    marker for begin and end of input\n",
    "\n",
    "#### pipes\n",
    "cmd | cmd"
   ]
  },
  {
   "cell_type": "markdown",
   "metadata": {},
   "source": [
    "### Perform Math\n",
    "\n",
    "using brackets \n",
    "\n",
    "#### floating-point \n",
    "several solutions for overcoming the bash integer limitation, most popular :bc\n",
    "\n",
    "bc -q \n",
    "scale=12  \n",
    "\n",
    "var1=20 \n",
    "var2=3.14159 \n",
    "var3=$(echo “scale=4; $var1 * $var1” | bc) \n",
    "var4=$(echo “scale=4; $var3 * $var2” | bc) \n",
    "\n",
    "variable=$(bc << EOF\n",
    "options \n",
    "statements \n",
    "expressions \n",
    "EOF\n",
    ") "
   ]
  },
  {
   "cell_type": "markdown",
   "metadata": {},
   "source": [
    "### Exiting the script"
   ]
  },
  {
   "cell_type": "markdown",
   "metadata": {},
   "source": [
    "#### Checking the exit status\n",
    "Linux provides the $? special variable that holds the exit status value from the last command that executed. \n",
    "\n",
    "1. 0 Successful completion of the command \n",
    "2. 1 General unknown error \n",
    "3. 2 Misuse of shell command\n",
    "4. 126 The command can’t execute \n",
    "5. 127 Command not found \n",
    "6. 128 Invalid exit argumen\n",
    "7. 130 Command terminated with Ctrl+C \n",
    "8. 255 Exit status out of range"
   ]
  },
  {
   "cell_type": "markdown",
   "metadata": {},
   "source": [
    "## Using Structured Commands"
   ]
  },
  {
   "cell_type": "markdown",
   "metadata": {},
   "source": [
    "#### Working with the if-then Statement\n",
    "\n",
    "The bash shell if statement runs the command defined on the if line. If the exit status of the command is zero , the commands listed under the then section are executed. \n",
    "\n",
    "#### test\n",
    "\n",
    "condition returns true 0, if not non zeros\n",
    "\n",
    "if condition is none returns a non zeros \n",
    "\n",
    "using the test command, you can determine whether a variable has content.\n",
    "\n",
    "if you don't want test command , then [ condition ] \n",
    "\n",
    "Using numeric comparisons !Remember that the only numbers the bash shell can handle are integers.\n",
    "1. n1 -eq n2\n",
    "2. n1 -ge n2\n",
    "3. n1 -gt n2 greater\n",
    "4. n1 -le n2\n",
    "5. n1 -lt n2\n",
    "6. n1 -ne n2\n"
   ]
  },
  {
   "cell_type": "markdown",
   "metadata": {},
   "source": [
    "Using string comparisons\n",
    "\n",
    "1. str1 = str2 Checks if str1 is the same as string str2 \n",
    "2. str1 != str2 Checks if str1 is not the same as str2 \n",
    "3. str1 < str2 Checks if str1 is less than str2 \n",
    "4. str1 > str2 Checks if str1 is greater than str2 \n",
    "5. -n str1 Checks if str1 has a length greater than zero \n",
    "6. -z str1 Checks if str1 has a length of zero \n",
    "\n",
    "Using file comparisons \n",
    "1. -d fileChecks if file exists and is a directory \n",
    "2. -e fileChecks if file exists \n",
    "3. -f fileChecks if file exists and is a file \n",
    "4. -r fileChecks if file exists and is readable \n",
    "5. -s fileChecks if file exists and is not empty \n",
    "6. -w fileChecks if file exists and is writable \n",
    "7. -x fileChecks if file exists and is executable \n",
    "8. -O fileChecks if file exists and is owned by the current user \n",
    "9. -G file Checks if file exists and the default group is the same as the current user \n",
    "10. file1 -nt file2 Checks if file1 is newer than file2 \n",
    "11. file1 -ot file2 Checks if file1 is older than file2 "
   ]
  },
  {
   "cell_type": "markdown",
   "metadata": {},
   "source": [
    "### Working with Advanced if-then Features\n",
    "\n",
    "#### Using double parentheses \n",
    "```\n",
    "(( $val1 ** 2 > 90 )) \n",
    "```\n",
    "#### Using double brackets for string comparision\n",
    "\n",
    "\n",
    "\n",
    "*vimtip:Copy is called yank (y), cut is called delete (d), and paste is called put (p).*"
   ]
  },
  {
   "cell_type": "markdown",
   "metadata": {},
   "source": [
    "## Loop\n",
    "\n",
    "IFS(internal field separator)\n",
    "```\n",
    "A space\n",
    "A tab\n",
    "A newline\n",
    "```\n",
    "\n",
    "```\n",
    "IFS.OLD=$IFS\n",
    "IFS=$‘∖n’\n",
    "<use the new IFS value in code>\n",
    "IFS=$IFS.OLD\n",
    "```"
   ]
  },
  {
   "cell_type": "markdown",
   "metadata": {},
   "source": [
    "# Make"
   ]
  },
  {
   "cell_type": "markdown",
   "metadata": {},
   "source": [
    "### Makefile Syntax\n",
    "```\n",
    ".targets: prerequisites\n",
    "\tcommand\n",
    "\tcommand\n",
    "\tcommand\n",
    "```\n",
    "\n",
    "### Variables\n"
   ]
  }
 ],
 "metadata": {
  "interpreter": {
   "hash": "b1d45c73e0fccf0ca2067aeb717db71c978d050da4429a0a8038632fdd77205e"
  },
  "kernelspec": {
   "display_name": "Python 3.8.12 ('XinYuEnv')",
   "language": "python",
   "name": "python3"
  },
  "language_info": {
   "codemirror_mode": {
    "name": "ipython",
    "version": 3
   },
   "file_extension": ".py",
   "mimetype": "text/x-python",
   "name": "python",
   "nbconvert_exporter": "python",
   "pygments_lexer": "ipython3",
   "version": "3.8.12"
  },
  "orig_nbformat": 4
 },
 "nbformat": 4,
 "nbformat_minor": 2
}
