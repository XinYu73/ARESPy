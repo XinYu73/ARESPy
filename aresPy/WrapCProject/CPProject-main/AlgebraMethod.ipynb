{
 "cells": [
  {
   "cell_type": "code",
   "execution_count": 22,
   "metadata": {},
   "outputs": [
    {
     "name": "stderr",
     "output_type": "stream",
     "text": [
      "/work/home/xinyu/soft/XinYuEnv/lib/python3.8/site-packages/matplotlib/cbook/__init__.py:1298: ComplexWarning: Casting complex values to real discards the imaginary part\n",
      "  return np.asarray(x, float)\n"
     ]
    },
    {
     "data": {
      "text/plain": [
       "[<matplotlib.lines.Line2D at 0x2b0ff35a06d0>]"
      ]
     },
     "execution_count": 22,
     "metadata": {},
     "output_type": "execute_result"
    },
    {
     "data": {
      "image/png": "[encoded data removed]",
      "text/plain": [
       "<Figure size 432x288 with 1 Axes>"
      ]
     },
     "metadata": {
      "needs_background": "light"
     },
     "output_type": "display_data"
    }
   ],
   "source": [
    "import AlgebraMethod\n",
    "from  matplotlib import pyplot as plt\n",
    "import numpy as np\n",
    "x = np.random.rand(100)\n",
    "y = np.random.rand(100)\n",
    "z = np.random.rand(100)\n",
    "eh = np.zeros((100,5),dtype=complex)\n",
    "for i in range(100):\n",
    "    AlgebraMethod.algebramethod.getposition(x[i],y[i],z[i])\n",
    "    eh[i,0]= AlgebraMethod.algebramethod.getex()\n",
    "    eh[i,1]= AlgebraMethod.algebramethod.getey()\n",
    "    eh[i,2:5]=AlgebraMethod.algebramethod.geth()\n",
    "plt.plot(x,eh[:,4],\".\")\n"
   ]
  },
  {
   "cell_type": "code",
   "execution_count": 25,
   "metadata": {},
   "outputs": [
    {
     "name": "stdout",
     "output_type": "stream",
     "text": [
      "(13.364362716674805-13.551200866699219j)\n",
      "(-6.682181358337402+6.775600433349609j)\n"
     ]
    },
    {
     "data": {
      "text/plain": [
       "((0.38440099358558655+0.2007017582654953j),\n",
       " (0.7688019871711731+0.4014035165309906j),\n",
       " (0.37763842940330505+0.5954306721687317j))"
      ]
     },
     "execution_count": 25,
     "metadata": {},
     "output_type": "execute_result"
    }
   ],
   "source": [
    "AlgebraMethod.algebramethod.getposition(0.1,0.2,0.4)\n",
    "print(AlgebraMethod.algebramethod.getex())\n",
    "print(AlgebraMethod.algebramethod.getey())\n",
    "AlgebraMethod.algebramethod.geth()"
   ]
  }
 ],
 "metadata": {
  "interpreter": {
   "hash": "b94ca46ec67b54eeac6bdd0a505788384e2a64b4bc645211551befe51c46d3d6"
  },
  "kernelspec": {
   "display_name": "Python 3.8.12 (conda)",
   "language": "python",
   "name": "python3"
  },
  "language_info": {
   "codemirror_mode": {
    "name": "ipython",
    "version": 3
   },
   "file_extension": ".py",
   "mimetype": "text/x-python",
   "name": "python",
   "nbconvert_exporter": "python",
   "pygments_lexer": "ipython3",
   "version": "3.8.12"
  },
  "orig_nbformat": 4
 },
 "nbformat": 4,
 "nbformat_minor": 2
}
