{
 "cells": [
  {
   "cell_type": "code",
   "execution_count": 2,
   "metadata": {},
   "outputs": [
    {
     "name": "stdout",
     "output_type": "stream",
     "text": [
      "[master 77df7c8] f\n",
      " 7 files changed, 118 insertions(+), 1 deletion(-)\n",
      " rewrite FortranReview/6_1.o (90%)\n",
      " create mode 100644 FortranReview/routine__genmod.f90\n",
      " create mode 100644 FortranReview/routine__genmod.mod\n",
      " create mode 100644 FortranReview/test.ipynb\n"
     ]
    },
    {
     "name": "stderr",
     "output_type": "stream",
     "text": [
      "From github.com:XinYu73/PhdProgram\n",
      " * branch            master     -> FETCH_HEAD\n"
     ]
    },
    {
     "name": "stdout",
     "output_type": "stream",
     "text": [
      "Already up-to-date.\n"
     ]
    },
    {
     "name": "stderr",
     "output_type": "stream",
     "text": [
      "To git@github.com:XinYu73/PhdProgram.git\n",
      "   672b389..77df7c8  master -> master\n"
     ]
    }
   ],
   "source": [
    "%%bash\n",
    "cd /work/home/xinyu/workplace/PhdProgram\n",
    "git add *\n",
    "git commit -m \"f\"\n",
    "git pull origin master\n",
    "git push origin master"
   ]
  },
  {
   "cell_type": "code",
   "execution_count": 3,
   "metadata": {},
   "outputs": [
    {
     "name": "stdout",
     "output_type": "stream",
     "text": [
      "ifort (IFORT) 18.0.3 20180410\n",
      "Copyright (C) 1985-2018 Intel Corporation.  All rights reserved.\n",
      "\n",
      "ifort -O0 -g -traceback -check all -check bounds -check uninit -ftrapuv -debug all -gen-interface -warn interface -o  6_1 6_1.o\n",
      "   1.000000       2.000000       3.000000       4.000000       5.000000    \n",
      "   1.000000       2.000000       3.000000       4.000000       5.000000    \n",
      "   6.000000       7.000000       8.000000       9.000000       10.00000    \n",
      "           0           0           0           0           0           0\n",
      "           0           0           0          10           0           0\n",
      "           0           0           0           0           0           0\n",
      "           0          20           0           0           0           0\n",
      "           0           0           0           0           0          30\n",
      "           0           0           0           0           0           0\n",
      "           0           0           0          40           0           0\n",
      "           0           0           0           0           0           0\n",
      "           0          50           0           0           0           0\n",
      "           0           0           0           0           0          60\n",
      "           0           0           0           0           0           0\n",
      "           0           0           0          70           0           0\n",
      "           0           0           0           0           0           0\n",
      "           0          80           0           0           0           0\n",
      "           0           0           0           0           0          90\n",
      "           0           0           0           0           0           0\n",
      "           0           0           0         100\n"
     ]
    }
   ],
   "source": [
    "%%bash\n",
    "ifort --version\n",
    "make\n",
    "./6_1"
   ]
  }
 ],
 "metadata": {
  "interpreter": {
   "hash": "b94ca46ec67b54eeac6bdd0a505788384e2a64b4bc645211551befe51c46d3d6"
  },
  "kernelspec": {
   "display_name": "Python 3.8.12 (conda)",
   "language": "python",
   "name": "python3"
  },
  "language_info": {
   "codemirror_mode": {
    "name": "ipython",
    "version": 3
   },
   "file_extension": ".py",
   "mimetype": "text/x-python",
   "name": "python",
   "nbconvert_exporter": "python",
   "pygments_lexer": "ipython3",
   "version": "3.8.12"
  },
  "orig_nbformat": 4
 },
 "nbformat": 4,
 "nbformat_minor": 2
}
